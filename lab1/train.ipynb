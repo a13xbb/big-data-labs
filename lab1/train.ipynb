{
 "cells": [
  {
   "cell_type": "code",
   "execution_count": 1,
   "metadata": {},
   "outputs": [],
   "source": [
    "import pandas as pd\n",
    "from catboost import CatBoostClassifier, Pool\n",
    "from sklearn.model_selection import train_test_split\n",
    "from sklearn.metrics import accuracy_score, f1_score, classification_report\n",
    "from sklearn.preprocessing import StandardScaler"
   ]
  },
  {
   "cell_type": "code",
   "execution_count": 2,
   "metadata": {},
   "outputs": [],
   "source": [
    "df = pd.read_csv('data/covtype.csv')"
   ]
  },
  {
   "cell_type": "code",
   "execution_count": 3,
   "metadata": {},
   "outputs": [],
   "source": [
    "X = df.drop(columns='Cover_Type')\n",
    "y = df['Cover_Type']"
   ]
  },
  {
   "cell_type": "code",
   "execution_count": 4,
   "metadata": {},
   "outputs": [
    {
     "name": "stdout",
     "output_type": "stream",
     "text": [
      "Accuracy: 88.01%\n",
      "              precision    recall  f1-score   support\n",
      "\n",
      "           1       0.88      0.85      0.87     42368\n",
      "           2       0.88      0.91      0.90     56661\n",
      "           3       0.88      0.91      0.89      7151\n",
      "           4       0.85      0.83      0.84       549\n",
      "           5       0.87      0.58      0.69      1899\n",
      "           6       0.85      0.77      0.80      3473\n",
      "           7       0.93      0.88      0.90      4102\n",
      "\n",
      "    accuracy                           0.88    116203\n",
      "   macro avg       0.88      0.82      0.84    116203\n",
      "weighted avg       0.88      0.88      0.88    116203\n",
      "\n"
     ]
    }
   ],
   "source": [
    "X_train, X_test, y_train, y_test = train_test_split(X, y, test_size=0.2, random_state=42, stratify=y)\n",
    "\n",
    "scaler = StandardScaler()\n",
    "X_train_scaled = scaler.fit_transform(X_train)\n",
    "X_test_scaled = scaler.transform(X_test)\n",
    "\n",
    "model = CatBoostClassifier()\n",
    "\n",
    "model.load_model('/home/alex/study/big-data-labs/lab1/models/catboost_forest_cover_type.model')\n",
    "\n",
    "y_pred = model.predict(X_test_scaled)\n",
    "\n",
    "accuracy = accuracy_score(y_test, y_pred)\n",
    "print(f\"Accuracy: {accuracy * 100:.2f}%\")\n",
    "\n",
    "model.save_model('catboost_forest_cover_type.model')\n",
    "\n",
    "print(classification_report(y_test, y_pred))"
   ]
  },
  {
   "cell_type": "code",
   "execution_count": 5,
   "metadata": {},
   "outputs": [
    {
     "name": "stdout",
     "output_type": "stream",
     "text": [
      "0:\tlearn: 1.6764241\ttotal: 220ms\tremaining: 3m 39s\n",
      "200:\tlearn: 0.4727552\ttotal: 21.2s\tremaining: 1m 24s\n",
      "400:\tlearn: 0.3970818\ttotal: 41.8s\tremaining: 1m 2s\n",
      "600:\tlearn: 0.3548123\ttotal: 1m 3s\tremaining: 41.9s\n",
      "800:\tlearn: 0.3244698\ttotal: 1m 24s\tremaining: 21s\n",
      "999:\tlearn: 0.3009443\ttotal: 1m 46s\tremaining: 0us\n",
      "Accuracy: 88.01%\n",
      "              precision    recall  f1-score   support\n",
      "\n",
      "           1       0.88      0.85      0.87     42368\n",
      "           2       0.88      0.91      0.90     56661\n",
      "           3       0.88      0.91      0.89      7151\n",
      "           4       0.85      0.83      0.84       549\n",
      "           5       0.87      0.58      0.69      1899\n",
      "           6       0.85      0.77      0.80      3473\n",
      "           7       0.93      0.88      0.90      4102\n",
      "\n",
      "    accuracy                           0.88    116203\n",
      "   macro avg       0.88      0.82      0.84    116203\n",
      "weighted avg       0.88      0.88      0.88    116203\n",
      "\n"
     ]
    }
   ],
   "source": [
    "X_train, X_test, y_train, y_test = train_test_split(X, y, test_size=0.2, random_state=42, stratify=y)\n",
    "\n",
    "scaler = StandardScaler()\n",
    "X_train_scaled = scaler.fit_transform(X_train)\n",
    "X_test_scaled = scaler.transform(X_test)\n",
    "\n",
    "model = CatBoostClassifier(iterations=1000, depth=6, learning_rate=0.1, loss_function='MultiClass', cat_features=[])\n",
    "\n",
    "model.fit(X_train_scaled, y_train, verbose=200)\n",
    "\n",
    "y_pred = model.predict(X_test_scaled)\n",
    "\n",
    "accuracy = accuracy_score(y_test, y_pred)\n",
    "print(f\"Accuracy: {accuracy * 100:.2f}%\")\n",
    "\n",
    "model.save_model('catboost_forest_cover_type.model')\n",
    "\n",
    "print(classification_report(y_test, y_pred))"
   ]
  },
  {
   "cell_type": "code",
   "execution_count": null,
   "metadata": {},
   "outputs": [],
   "source": [
    "train_df = pd.DataFrame(X_train, columns=X.columns)\n",
    "train_df['Cover_Type'] = y_train\n",
    "\n",
    "X_test_1, X_test_2, y_test_1, y_test_2 = train_test_split(X_test, y_test, test_size=0.5, random_state=42, stratify=y_test)\n",
    "test_1_df = pd.DataFrame(X_test_1, columns=X.columns)\n",
    "test_1_df['Cover_Type'] = y_test_1\n",
    "\n",
    "test_2_df = pd.DataFrame(X_test_2, columns=X.columns)\n",
    "test_2_df['Cover_Type'] = y_test_2\n",
    "\n",
    "train_df.to_csv('data/train.csv', index=False)\n",
    "test_1_df.to_csv('data/test_1.csv', index=False)\n",
    "test_2_df.to_csv('data/test_2.csv', index=False)"
   ]
  }
 ],
 "metadata": {
  "kernelspec": {
   "display_name": "ml_venv",
   "language": "python",
   "name": "python3"
  },
  "language_info": {
   "codemirror_mode": {
    "name": "ipython",
    "version": 3
   },
   "file_extension": ".py",
   "mimetype": "text/x-python",
   "name": "python",
   "nbconvert_exporter": "python",
   "pygments_lexer": "ipython3",
   "version": "3.12.3"
  }
 },
 "nbformat": 4,
 "nbformat_minor": 2
}
